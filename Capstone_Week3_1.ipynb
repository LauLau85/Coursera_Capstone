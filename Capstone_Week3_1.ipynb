{
    "cells": [
        {
            "cell_type": "markdown",
            "metadata": {
                "collapsed": true
            },
            "source": "# Data Science Capstone Assignment Week 3"
        },
        {
            "cell_type": "markdown",
            "metadata": {},
            "source": "### Student name: Laura Bongaardt"
        },
        {
            "cell_type": "markdown",
            "metadata": {},
            "source": "In this assignment we will scrape the location data for Toronto, using a Wikipedia page. We will then clean and process the data, supplement it with geolocation data\nand finally cluster the information into segments."
        },
        {
            "cell_type": "code",
            "execution_count": null,
            "metadata": {},
            "outputs": [],
            "source": ""
        }
    ],
    "metadata": {
        "kernelspec": {
            "display_name": "Python 3.7",
            "language": "python",
            "name": "python3"
        },
        "language_info": {
            "codemirror_mode": {
                "name": "ipython",
                "version": 3
            },
            "file_extension": ".py",
            "mimetype": "text/x-python",
            "name": "python",
            "nbconvert_exporter": "python",
            "pygments_lexer": "ipython3",
            "version": "3.7.10"
        }
    },
    "nbformat": 4,
    "nbformat_minor": 1
}